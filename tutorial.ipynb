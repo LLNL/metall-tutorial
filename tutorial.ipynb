{
 "cells": [
  {
   "cell_type": "code",
   "execution_count": null,
   "id": "imperial-alaska",
   "metadata": {},
   "outputs": [],
   "source": [
    "#pragma cling add_include_path(\"/tmp/metall/include\")\n",
    "#pragma cling add_include_path(\"/tmp/boost_1_72_0\")"
   ]
  },
  {
   "cell_type": "code",
   "execution_count": null,
   "id": "reserved-watson",
   "metadata": {},
   "outputs": [],
   "source": [
    "#include <metall/metall.hpp>\n",
    "{\n",
    "metall::manager manager(metall::create_only, \"/tmp/dir\");\n",
    "int *n = manager.construct<int> // Allocates an 'int' object\n",
    "                (\"name\") // Stores the allocated memory address with key \"name\"\n",
    "                (10); // Call a constructor of the object\n",
    "}"
   ]
  },
  {
   "cell_type": "code",
   "execution_count": null,
   "id": "pressed-bunny",
   "metadata": {},
   "outputs": [],
   "source": [
    "{\n",
    "metall::manager manager(metall::open_only, \"/tmp/dir\");\n",
    "\n",
    "int *n = manager.find<int>(\"name\").first;\n",
    "std::cout << *n << std::endl;\n",
    "\n",
    "manager.destroy_ptr(n); // Deallocate memory\n",
    "}"
   ]
  },
  {
   "cell_type": "code",
   "execution_count": null,
   "id": "thrown-panel",
   "metadata": {},
   "outputs": [],
   "source": []
  }
 ],
 "metadata": {
  "kernelspec": {
   "display_name": "C++17",
   "language": "C++17",
   "name": "xcpp17"
  }
 },
 "nbformat": 4,
 "nbformat_minor": 5
}
